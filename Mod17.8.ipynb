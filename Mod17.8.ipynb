{
 "cells": [
  {
   "cell_type": "code",
   "execution_count": 30,
   "metadata": {},
   "outputs": [],
   "source": [
    "import matplotlib.pyplot as plt\n",
    "import seaborn as sns\n",
    "import numpy as np\n",
    "import pandas as pd\n",
    "import scipy.stats as stats\n",
    "from scipy.stats.mstats import winsorize\n",
    "from sqlalchemy import create_engine\n",
    "import warnings\n",
    "from matplotlib.mlab import PCA as mlabPCA\n",
    "from sklearn.preprocessing import StandardScaler\n",
    "from sklearn.decomposition import PCA\n",
    "\n",
    "warnings.filterwarnings('ignore')\n",
    "sns.set(style=\"whitegrid\")\n",
    "\n",
    "postgres_user = 'dsbc_student'\n",
    "postgres_pw = '7*.8G9QH21'\n",
    "postgres_host = '142.93.121.174'\n",
    "postgres_port = '5432'\n",
    "postgres_db = 'useducation'\n",
    "\n",
    "engine = create_engine('postgresql://{}:{}@{}:{}/{}'.format(\n",
    "    postgres_user, postgres_pw, postgres_host, postgres_port, postgres_db))\n",
    "\n",
    "df = pd.read_sql_query('select * from useducation',con=engine)\n",
    "\n",
    "engine.dispose()"
   ]
  },
  {
   "cell_type": "code",
   "execution_count": 31,
   "metadata": {},
   "outputs": [],
   "source": [
    "clean_df = df.copy()\n",
    "\n",
    "for state in df.STATE.unique():\n",
    "    clean_df[clean_df.STATE == state] = df[df.STATE == state].interpolate(limit_direction='both')\n",
    "    \n",
    "to_drop_array = []\n",
    "for state in clean_df[pd.isnull(clean_df.ENROLL) == True].STATE:\n",
    "    to_drop_array.append(state)\n",
    "    \n",
    "rows_to_drop = []\n",
    "for row_index in range(len(clean_df)):\n",
    "    if clean_df.STATE[row_index] in to_drop_array:\n",
    "        rows_to_drop.append(row_index)\n",
    "        \n",
    "clean_df = clean_df.drop(clean_df.index[rows_to_drop])\n",
    "clean_df.reset_index(drop=True, inplace=True)"
   ]
  },
  {
   "cell_type": "code",
   "execution_count": 34,
   "metadata": {},
   "outputs": [],
   "source": [
    "weighted_score = []\n",
    "for i in range(len(clean_df)):\n",
    "    w1 = clean_df.GRADES_4_G[i]/(clean_df.GRADES_4_G[i] + clean_df.GRADES_8_G[i])\n",
    "    w2 = 1 - w1\n",
    "    weighted_score.append((clean_df.AVG_MATH_4_SCORE[i]*w1 + clean_df.AVG_MATH_8_SCORE[i]*w2 + clean_df.AVG_READING_4_SCORE[i]*w1 + clean_df.AVG_READING_8_SCORE[i]*w2)/2)\n",
    "clean_df['WEIGHTED_SCORE'] = weighted_score"
   ]
  },
  {
   "cell_type": "code",
   "execution_count": 35,
   "metadata": {},
   "outputs": [
    {
     "data": {
      "image/png": "[encoded data removed]",
      "text/plain": [
       "<Figure size 432x288 with 1 Axes>"
      ]
     },
     "metadata": {},
     "output_type": "display_data"
    },
    {
     "name": "stdout",
     "output_type": "stream",
     "text": [
      "NormaltestResult(statistic=262.41062770653696, pvalue=1.0429324902274814e-57)\n"
     ]
    }
   ],
   "source": [
    "plt.hist(clean_df.WEIGHTED_SCORE)\n",
    "plt.title('Weighted Scores')\n",
    "plt.show()\n",
    "print(stats.normaltest(clean_df.WEIGHTED_SCORE))"
   ]
  },
  {
   "cell_type": "code",
   "execution_count": 36,
   "metadata": {},
   "outputs": [
    {
     "data": {
      "image/png": "[encoded data removed]",
      "text/plain": [
       "<Figure size 432x288 with 1 Axes>"
      ]
     },
     "metadata": {},
     "output_type": "display_data"
    },
    {
     "name": "stdout",
     "output_type": "stream",
     "text": [
      "NormaltestResult(statistic=0.16720036847653486, pvalue=0.9197989326996941)\n"
     ]
    }
   ],
   "source": [
    "# Apply a boxcox transformation and our distribution is normal now!\n",
    "boxcox_weighted,_ = stats.boxcox(clean_df.WEIGHTED_SCORE)\n",
    "plt.hist(boxcox_weighted)\n",
    "plt.show()\n",
    "print(stats.normaltest(boxcox_weighted))"
   ]
  },
  {
   "cell_type": "code",
   "execution_count": 37,
   "metadata": {},
   "outputs": [],
   "source": [
    "clean_df['BOXCOX_WEIGHTED_SCORE'] = boxcox_weighted"
   ]
  },
  {
   "cell_type": "code",
   "execution_count": 71,
   "metadata": {},
   "outputs": [
    {
     "data": {
      "text/html": [
       "<div>\n",
       "<style scoped>\n",
       "    .dataframe tbody tr th:only-of-type {\n",
       "        vertical-align: middle;\n",
       "    }\n",
       "\n",
       "    .dataframe tbody tr th {\n",
       "        vertical-align: top;\n",
       "    }\n",
       "\n",
       "    .dataframe thead th {\n",
       "        text-align: right;\n",
       "    }\n",
       "</style>\n",
       "<table border=\"1\" class=\"dataframe\">\n",
       "  <thead>\n",
       "    <tr style=\"text-align: right;\">\n",
       "      <th></th>\n",
       "      <th>BOXCOX_WEIGHTED_SCORE</th>\n",
       "      <th>TOTAL_EXPENDITURE</th>\n",
       "      <th>INSTRUCTION_EXPENDITURE</th>\n",
       "      <th>SUPPORT_SERVICES_EXPENDITURE</th>\n",
       "      <th>OTHER_EXPENDITURE</th>\n",
       "      <th>CAPITAL_OUTLAY_EXPENDITURE</th>\n",
       "    </tr>\n",
       "  </thead>\n",
       "  <tbody>\n",
       "    <tr>\n",
       "      <th>BOXCOX_WEIGHTED_SCORE</th>\n",
       "      <td>1.000000</td>\n",
       "      <td>0.113683</td>\n",
       "      <td>0.122228</td>\n",
       "      <td>0.122047</td>\n",
       "      <td>0.045309</td>\n",
       "      <td>0.037349</td>\n",
       "    </tr>\n",
       "    <tr>\n",
       "      <th>TOTAL_EXPENDITURE</th>\n",
       "      <td>0.113683</td>\n",
       "      <td>1.000000</td>\n",
       "      <td>0.991256</td>\n",
       "      <td>0.993101</td>\n",
       "      <td>0.945465</td>\n",
       "      <td>0.930754</td>\n",
       "    </tr>\n",
       "    <tr>\n",
       "      <th>INSTRUCTION_EXPENDITURE</th>\n",
       "      <td>0.122228</td>\n",
       "      <td>0.991256</td>\n",
       "      <td>1.000000</td>\n",
       "      <td>0.976215</td>\n",
       "      <td>0.908302</td>\n",
       "      <td>0.894034</td>\n",
       "    </tr>\n",
       "    <tr>\n",
       "      <th>SUPPORT_SERVICES_EXPENDITURE</th>\n",
       "      <td>0.122047</td>\n",
       "      <td>0.993101</td>\n",
       "      <td>0.976215</td>\n",
       "      <td>1.000000</td>\n",
       "      <td>0.953187</td>\n",
       "      <td>0.915849</td>\n",
       "    </tr>\n",
       "    <tr>\n",
       "      <th>OTHER_EXPENDITURE</th>\n",
       "      <td>0.045309</td>\n",
       "      <td>0.945465</td>\n",
       "      <td>0.908302</td>\n",
       "      <td>0.953187</td>\n",
       "      <td>1.000000</td>\n",
       "      <td>0.920382</td>\n",
       "    </tr>\n",
       "    <tr>\n",
       "      <th>CAPITAL_OUTLAY_EXPENDITURE</th>\n",
       "      <td>0.037349</td>\n",
       "      <td>0.930754</td>\n",
       "      <td>0.894034</td>\n",
       "      <td>0.915849</td>\n",
       "      <td>0.920382</td>\n",
       "      <td>1.000000</td>\n",
       "    </tr>\n",
       "  </tbody>\n",
       "</table>\n",
       "</div>"
      ],
      "text/plain": [
       "                              BOXCOX_WEIGHTED_SCORE  TOTAL_EXPENDITURE  \\\n",
       "BOXCOX_WEIGHTED_SCORE                      1.000000           0.113683   \n",
       "TOTAL_EXPENDITURE                          0.113683           1.000000   \n",
       "INSTRUCTION_EXPENDITURE                    0.122228           0.991256   \n",
       "SUPPORT_SERVICES_EXPENDITURE               0.122047           0.993101   \n",
       "OTHER_EXPENDITURE                          0.045309           0.945465   \n",
       "CAPITAL_OUTLAY_EXPENDITURE                 0.037349           0.930754   \n",
       "\n",
       "                              INSTRUCTION_EXPENDITURE  \\\n",
       "BOXCOX_WEIGHTED_SCORE                        0.122228   \n",
       "TOTAL_EXPENDITURE                            0.991256   \n",
       "INSTRUCTION_EXPENDITURE                      1.000000   \n",
       "SUPPORT_SERVICES_EXPENDITURE                 0.976215   \n",
       "OTHER_EXPENDITURE                            0.908302   \n",
       "CAPITAL_OUTLAY_EXPENDITURE                   0.894034   \n",
       "\n",
       "                              SUPPORT_SERVICES_EXPENDITURE  OTHER_EXPENDITURE  \\\n",
       "BOXCOX_WEIGHTED_SCORE                             0.122047           0.045309   \n",
       "TOTAL_EXPENDITURE                                 0.993101           0.945465   \n",
       "INSTRUCTION_EXPENDITURE                           0.976215           0.908302   \n",
       "SUPPORT_SERVICES_EXPENDITURE                      1.000000           0.953187   \n",
       "OTHER_EXPENDITURE                                 0.953187           1.000000   \n",
       "CAPITAL_OUTLAY_EXPENDITURE                        0.915849           0.920382   \n",
       "\n",
       "                              CAPITAL_OUTLAY_EXPENDITURE  \n",
       "BOXCOX_WEIGHTED_SCORE                           0.037349  \n",
       "TOTAL_EXPENDITURE                               0.930754  \n",
       "INSTRUCTION_EXPENDITURE                         0.894034  \n",
       "SUPPORT_SERVICES_EXPENDITURE                    0.915849  \n",
       "OTHER_EXPENDITURE                               0.920382  \n",
       "CAPITAL_OUTLAY_EXPENDITURE                      1.000000  "
      ]
     },
     "execution_count": 71,
     "metadata": {},
     "output_type": "execute_result"
    }
   ],
   "source": [
    "vars = ['BOXCOX_WEIGHTED_SCORE', 'TOTAL_EXPENDITURE', 'INSTRUCTION_EXPENDITURE', 'SUPPORT_SERVICES_EXPENDITURE', 'OTHER_EXPENDITURE', 'CAPITAL_OUTLAY_EXPENDITURE']\n",
    "clean_df[vars].corr()"
   ]
  },
  {
   "cell_type": "code",
   "execution_count": 61,
   "metadata": {},
   "outputs": [],
   "source": [
    "# These are all pretty low correlations, but instruction expenditure is the most highly correlated."
   ]
  },
  {
   "cell_type": "code",
   "execution_count": 85,
   "metadata": {},
   "outputs": [],
   "source": [
    "vars = ['TOTAL_EXPENDITURE', 'INSTRUCTION_EXPENDITURE', 'SUPPORT_SERVICES_EXPENDITURE', 'OTHER_EXPENDITURE', 'CAPITAL_OUTLAY_EXPENDITURE']\n",
    "X = StandardScaler().fit_transform(clean_df[vars])\n",
    "sklearn_pca = PCA(n_components=1)\n",
    "clean_df[\"PCA_1\"] = sklearn_pca.fit_transform(X)"
   ]
  },
  {
   "cell_type": "code",
   "execution_count": 86,
   "metadata": {},
   "outputs": [],
   "source": [
    "eig_val_cov, eig_vec_cov = np.linalg.eig(Cx)"
   ]
  },
  {
   "cell_type": "code",
   "execution_count": 87,
   "metadata": {},
   "outputs": [
    {
     "data": {
      "image/png": "[encoded data removed]",
      "text/plain": [
       "<Figure size 432x288 with 1 Axes>"
      ]
     },
     "metadata": {},
     "output_type": "display_data"
    },
    {
     "name": "stdout",
     "output_type": "stream",
     "text": [
      "[0.95451058]\n"
     ]
    }
   ],
   "source": [
    "plt.plot(eig_val_cov)\n",
    "plt.show()\n",
    "print(sklearn_pca.explained_variance_ratio_)"
   ]
  },
  {
   "cell_type": "code",
   "execution_count": 78,
   "metadata": {},
   "outputs": [],
   "source": [
    "# 95% of the total variance is explained by the first component."
   ]
  },
  {
   "cell_type": "code",
   "execution_count": 90,
   "metadata": {},
   "outputs": [
    {
     "data": {
      "text/html": [
       "<div>\n",
       "<style scoped>\n",
       "    .dataframe tbody tr th:only-of-type {\n",
       "        vertical-align: middle;\n",
       "    }\n",
       "\n",
       "    .dataframe tbody tr th {\n",
       "        vertical-align: top;\n",
       "    }\n",
       "\n",
       "    .dataframe thead th {\n",
       "        text-align: right;\n",
       "    }\n",
       "</style>\n",
       "<table border=\"1\" class=\"dataframe\">\n",
       "  <thead>\n",
       "    <tr style=\"text-align: right;\">\n",
       "      <th></th>\n",
       "      <th>BOXCOX_WEIGHTED_SCORE</th>\n",
       "      <th>PCA_1</th>\n",
       "      <th>TOTAL_EXPENDITURE</th>\n",
       "      <th>INSTRUCTION_EXPENDITURE</th>\n",
       "      <th>SUPPORT_SERVICES_EXPENDITURE</th>\n",
       "      <th>OTHER_EXPENDITURE</th>\n",
       "      <th>CAPITAL_OUTLAY_EXPENDITURE</th>\n",
       "    </tr>\n",
       "  </thead>\n",
       "  <tbody>\n",
       "    <tr>\n",
       "      <th>BOXCOX_WEIGHTED_SCORE</th>\n",
       "      <td>1.000000</td>\n",
       "      <td>0.090715</td>\n",
       "      <td>0.113683</td>\n",
       "      <td>0.122228</td>\n",
       "      <td>0.122047</td>\n",
       "      <td>0.045309</td>\n",
       "      <td>0.037349</td>\n",
       "    </tr>\n",
       "    <tr>\n",
       "      <th>PCA_1</th>\n",
       "      <td>0.090715</td>\n",
       "      <td>1.000000</td>\n",
       "      <td>0.995311</td>\n",
       "      <td>0.976899</td>\n",
       "      <td>0.990813</td>\n",
       "      <td>0.967656</td>\n",
       "      <td>0.953683</td>\n",
       "    </tr>\n",
       "    <tr>\n",
       "      <th>TOTAL_EXPENDITURE</th>\n",
       "      <td>0.113683</td>\n",
       "      <td>0.995311</td>\n",
       "      <td>1.000000</td>\n",
       "      <td>0.991256</td>\n",
       "      <td>0.993101</td>\n",
       "      <td>0.945465</td>\n",
       "      <td>0.930754</td>\n",
       "    </tr>\n",
       "    <tr>\n",
       "      <th>INSTRUCTION_EXPENDITURE</th>\n",
       "      <td>0.122228</td>\n",
       "      <td>0.976899</td>\n",
       "      <td>0.991256</td>\n",
       "      <td>1.000000</td>\n",
       "      <td>0.976215</td>\n",
       "      <td>0.908302</td>\n",
       "      <td>0.894034</td>\n",
       "    </tr>\n",
       "    <tr>\n",
       "      <th>SUPPORT_SERVICES_EXPENDITURE</th>\n",
       "      <td>0.122047</td>\n",
       "      <td>0.990813</td>\n",
       "      <td>0.993101</td>\n",
       "      <td>0.976215</td>\n",
       "      <td>1.000000</td>\n",
       "      <td>0.953187</td>\n",
       "      <td>0.915849</td>\n",
       "    </tr>\n",
       "    <tr>\n",
       "      <th>OTHER_EXPENDITURE</th>\n",
       "      <td>0.045309</td>\n",
       "      <td>0.967656</td>\n",
       "      <td>0.945465</td>\n",
       "      <td>0.908302</td>\n",
       "      <td>0.953187</td>\n",
       "      <td>1.000000</td>\n",
       "      <td>0.920382</td>\n",
       "    </tr>\n",
       "    <tr>\n",
       "      <th>CAPITAL_OUTLAY_EXPENDITURE</th>\n",
       "      <td>0.037349</td>\n",
       "      <td>0.953683</td>\n",
       "      <td>0.930754</td>\n",
       "      <td>0.894034</td>\n",
       "      <td>0.915849</td>\n",
       "      <td>0.920382</td>\n",
       "      <td>1.000000</td>\n",
       "    </tr>\n",
       "  </tbody>\n",
       "</table>\n",
       "</div>"
      ],
      "text/plain": [
       "                              BOXCOX_WEIGHTED_SCORE     PCA_1  \\\n",
       "BOXCOX_WEIGHTED_SCORE                      1.000000  0.090715   \n",
       "PCA_1                                      0.090715  1.000000   \n",
       "TOTAL_EXPENDITURE                          0.113683  0.995311   \n",
       "INSTRUCTION_EXPENDITURE                    0.122228  0.976899   \n",
       "SUPPORT_SERVICES_EXPENDITURE               0.122047  0.990813   \n",
       "OTHER_EXPENDITURE                          0.045309  0.967656   \n",
       "CAPITAL_OUTLAY_EXPENDITURE                 0.037349  0.953683   \n",
       "\n",
       "                              TOTAL_EXPENDITURE  INSTRUCTION_EXPENDITURE  \\\n",
       "BOXCOX_WEIGHTED_SCORE                  0.113683                 0.122228   \n",
       "PCA_1                                  0.995311                 0.976899   \n",
       "TOTAL_EXPENDITURE                      1.000000                 0.991256   \n",
       "INSTRUCTION_EXPENDITURE                0.991256                 1.000000   \n",
       "SUPPORT_SERVICES_EXPENDITURE           0.993101                 0.976215   \n",
       "OTHER_EXPENDITURE                      0.945465                 0.908302   \n",
       "CAPITAL_OUTLAY_EXPENDITURE             0.930754                 0.894034   \n",
       "\n",
       "                              SUPPORT_SERVICES_EXPENDITURE  OTHER_EXPENDITURE  \\\n",
       "BOXCOX_WEIGHTED_SCORE                             0.122047           0.045309   \n",
       "PCA_1                                             0.990813           0.967656   \n",
       "TOTAL_EXPENDITURE                                 0.993101           0.945465   \n",
       "INSTRUCTION_EXPENDITURE                           0.976215           0.908302   \n",
       "SUPPORT_SERVICES_EXPENDITURE                      1.000000           0.953187   \n",
       "OTHER_EXPENDITURE                                 0.953187           1.000000   \n",
       "CAPITAL_OUTLAY_EXPENDITURE                        0.915849           0.920382   \n",
       "\n",
       "                              CAPITAL_OUTLAY_EXPENDITURE  \n",
       "BOXCOX_WEIGHTED_SCORE                           0.037349  \n",
       "PCA_1                                           0.953683  \n",
       "TOTAL_EXPENDITURE                               0.930754  \n",
       "INSTRUCTION_EXPENDITURE                         0.894034  \n",
       "SUPPORT_SERVICES_EXPENDITURE                    0.915849  \n",
       "OTHER_EXPENDITURE                               0.920382  \n",
       "CAPITAL_OUTLAY_EXPENDITURE                      1.000000  "
      ]
     },
     "execution_count": 90,
     "metadata": {},
     "output_type": "execute_result"
    }
   ],
   "source": [
    "vars = ['BOXCOX_WEIGHTED_SCORE', 'PCA_1', 'TOTAL_EXPENDITURE', 'INSTRUCTION_EXPENDITURE', 'SUPPORT_SERVICES_EXPENDITURE', 'OTHER_EXPENDITURE', 'CAPITAL_OUTLAY_EXPENDITURE']\n",
    "clean_df[vars].corr()"
   ]
  },
  {
   "cell_type": "code",
   "execution_count": null,
   "metadata": {},
   "outputs": [],
   "source": []
  }
 ],
 "metadata": {
  "kernelspec": {
   "display_name": "Python 3",
   "language": "python",
   "name": "python3"
  },
  "language_info": {
   "codemirror_mode": {
    "name": "ipython",
    "version": 3
   },
   "file_extension": ".py",
   "mimetype": "text/x-python",
   "name": "python",
   "nbconvert_exporter": "python",
   "pygments_lexer": "ipython3",
   "version": "3.7.3"
  }
 },
 "nbformat": 4,
 "nbformat_minor": 2
}
